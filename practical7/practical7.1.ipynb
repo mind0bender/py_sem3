{
 "cells": [
  {
   "cell_type": "code",
   "execution_count": 86,
   "metadata": {},
   "outputs": [],
   "source": [
    "# s = \"abcabcbb\"\n",
    "# s = \"bbbbb\"\n",
    "s = \"pwwkew\"\n",
    "\n",
    "n = len(s)"
   ]
  },
  {
   "cell_type": "code",
   "execution_count": 87,
   "metadata": {},
   "outputs": [],
   "source": [
    "def hasDuplicate(string):\n",
    "    return len(string) != len(set(string))"
   ]
  },
  {
   "cell_type": "code",
   "execution_count": 90,
   "metadata": {},
   "outputs": [
    {
     "data": {
      "text/plain": [
       "3"
      ]
     },
     "execution_count": 90,
     "metadata": {},
     "output_type": "execute_result"
    }
   ],
   "source": [
    "longss = \"\"\n",
    "b = 0\n",
    "\n",
    "for i in range(n):\n",
    "    if hasDuplicate(s[b:i+1]):\n",
    "        if len(s[b:i]) > len(longss):\n",
    "            longss = s[b:i]\n",
    "        b = i\n",
    "len(longss)"
   ]
  }
 ],
 "metadata": {
  "kernelspec": {
   "display_name": "DT",
   "language": "python",
   "name": "python3"
  },
  "language_info": {
   "codemirror_mode": {
    "name": "ipython",
    "version": 3
   },
   "file_extension": ".py",
   "mimetype": "text/x-python",
   "name": "python",
   "nbconvert_exporter": "python",
   "pygments_lexer": "ipython3",
   "version": "3.12.4"
  }
 },
 "nbformat": 4,
 "nbformat_minor": 2
}
