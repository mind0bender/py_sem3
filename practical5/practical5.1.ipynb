{
 "cells": [
  {
   "cell_type": "code",
   "execution_count": 31,
   "metadata": {},
   "outputs": [],
   "source": [
    "from typing import List"
   ]
  },
  {
   "cell_type": "code",
   "execution_count": 23,
   "metadata": {},
   "outputs": [],
   "source": [
    "# fn\\. w\\. return val\\.\n",
    "\n",
    "def addnumWReturn(n1, n2)->int:\n",
    "    return n1+n2"
   ]
  },
  {
   "cell_type": "code",
   "execution_count": 24,
   "metadata": {},
   "outputs": [],
   "source": [
    "# fn\\. wo\\. return val\\.\n",
    "\n",
    "def addNumWOReturn(n1, n2):\n",
    "    print(f\"sum of {n1} and {n2} is {n1+n2}\")"
   ]
  },
  {
   "cell_type": "code",
   "execution_count": 25,
   "metadata": {},
   "outputs": [
    {
     "name": "stdout",
     "output_type": "stream",
     "text": [
      "sum is 328\n"
     ]
    }
   ],
   "source": [
    "s = addnumWReturn(11, 317)\n",
    "print(f\"sum is {s}\")"
   ]
  },
  {
   "cell_type": "code",
   "execution_count": 26,
   "metadata": {},
   "outputs": [
    {
     "name": "stdout",
     "output_type": "stream",
     "text": [
      "sum of 11 and 317 is 328\n"
     ]
    }
   ],
   "source": [
    "addNumWOReturn(11, 317)"
   ]
  },
  {
   "cell_type": "markdown",
   "metadata": {},
   "source": [
    "## four classificaiton of fn\\\\.\n",
    " - default arg\\\\. fn\\\\.\n",
    " - (required / positional) arg\\\\. fn\\\\.\n",
    " - (keyword / named) arg\\\\. fn\\\\.\n",
    " - (arbitrary / var\\\\. length) arg\\\\. fn\\\\."
   ]
  },
  {
   "cell_type": "markdown",
   "metadata": {},
   "source": [
    "### default arg\\\\. fn\\\\.\n",
    "Assigning val\\\\. directly to args\\\\. in the def\\\\. of the fn\\\\. \n",
    "while calling the fn\\\\. passing vals\\\\. to the default args\\\\. is optional.\n",
    "\n",
    "> A non-default arg\\\\. can't be followed by a default arg\\\\."
   ]
  },
  {
   "cell_type": "code",
   "execution_count": 27,
   "metadata": {},
   "outputs": [
    {
     "data": {
      "text/plain": [
       "21"
      ]
     },
     "execution_count": 27,
     "metadata": {},
     "output_type": "execute_result"
    }
   ],
   "source": [
    "def add(n1:int, n2:int = 10)->int:\n",
    "    return n1+n2\n",
    "\n",
    "add(11)"
   ]
  },
  {
   "cell_type": "markdown",
   "metadata": {},
   "source": [
    "### (required / positional) arg\\\\. fn\\\\.\n",
    "\n",
    "We need to pass val\\\\. to all the args\\\\. which are def\\\\. in the fn\\\\.\n"
   ]
  },
  {
   "cell_type": "code",
   "execution_count": 28,
   "metadata": {},
   "outputs": [
    {
     "data": {
      "text/plain": [
       "-306"
      ]
     },
     "execution_count": 28,
     "metadata": {},
     "output_type": "execute_result"
    }
   ],
   "source": [
    "def sub(n1:int, n2:int)->int:\n",
    "    return n1 - n2\n",
    "\n",
    "sub(11, 317)"
   ]
  },
  {
   "cell_type": "markdown",
   "metadata": {},
   "source": [
    "### (Keyword / named) Arg\\\\. fn\n",
    "\n",
    "It is the concept of specifying the arg\\\\. val\\\\. along w\\\\. the arg\\\\. name while calling the fn\\\\.\n",
    "> We can change the order of arg\\\\. while calling"
   ]
  },
  {
   "cell_type": "code",
   "execution_count": 29,
   "metadata": {},
   "outputs": [
    {
     "name": "stdout",
     "output_type": "stream",
     "text": [
      "Hello Yash Gupta, your UID is 23BCS11317\n"
     ]
    }
   ],
   "source": [
    "def displayInfo(name: str, uid: str):\n",
    "    print(f\"Hello {name}, your UID is {uid.upper()}\")\n",
    "\n",
    "displayInfo(uid=\"23bcs11317\", name=\"Yash Gupta\")"
   ]
  },
  {
   "cell_type": "markdown",
   "metadata": {},
   "source": [
    "### (Arbitrary / variable len\\\\.) arg\\\\. fn\\\\.\n",
    "\n",
    "This fn\\\\. is useful when we don't know how many no\\\\. of args\\\\. we need to pass while calling the fn\\\\."
   ]
  },
  {
   "cell_type": "code",
   "execution_count": 33,
   "metadata": {},
   "outputs": [
    {
     "data": {
      "text/plain": [
       "13"
      ]
     },
     "execution_count": 33,
     "metadata": {},
     "output_type": "execute_result"
    }
   ],
   "source": [
    "def addAll(*nums:List[int]):\n",
    "    return sum(nums)\n",
    "\n",
    "addAll(1, 1, 3, 1, 7)"
   ]
  }
 ],
 "metadata": {
  "kernelspec": {
   "display_name": "DT",
   "language": "python",
   "name": "python3"
  },
  "language_info": {
   "codemirror_mode": {
    "name": "ipython",
    "version": 3
   },
   "file_extension": ".py",
   "mimetype": "text/x-python",
   "name": "python",
   "nbconvert_exporter": "python",
   "pygments_lexer": "ipython3",
   "version": "3.12.4"
  }
 },
 "nbformat": 4,
 "nbformat_minor": 2
}
