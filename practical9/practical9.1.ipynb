{
 "cells": [
  {
   "cell_type": "markdown",
   "metadata": {},
   "source": [
    "### Tuple 2"
   ]
  },
  {
   "cell_type": "markdown",
   "metadata": {},
   "source": [
    "ways to create a tuple"
   ]
  },
  {
   "cell_type": "code",
   "execution_count": 20,
   "metadata": {},
   "outputs": [
    {
     "name": "stdout",
     "output_type": "stream",
     "text": [
      "tup1: 1 2 3 4\n",
      "tup2: Yash Gupta 20 25.5\n",
      "tup3: 1 2 3 ('nested', 'tuple')\n",
      "tup4: 1\n"
     ]
    }
   ],
   "source": [
    "tup1 = (1, 2, 3, 4) # homogenous\n",
    "tup2 = (\"Yash\", \"Gupta\", 20, 25.5) # non-homogenous\n",
    "tup3 = (1, 2, 3, (\"nested\", \"tuple\")) # nested tuple\n",
    "tup4 = (1,) # tuple w\\. one ele\\.\n",
    "\n",
    "print(\"tup1:\", *tup1)\n",
    "print(\"tup2:\", *tup2)\n",
    "print(\"tup3:\", *tup3)\n",
    "print(\"tup4:\", *tup4)"
   ]
  },
  {
   "cell_type": "markdown",
   "metadata": {},
   "source": [
    "tuple creation using constructor"
   ]
  },
  {
   "cell_type": "code",
   "execution_count": 25,
   "metadata": {},
   "outputs": [
    {
     "name": "stdout",
     "output_type": "stream",
     "text": [
      "tup5: 1 2 3 4 5\n",
      "tup6: 0 1 2 3 4 5 6\n",
      "tup7: 0 1 2 3 4 5 6 7 8 9\n"
     ]
    }
   ],
   "source": [
    "tup5 = tuple([1, 2, 3, 4, 5]) # constructor\n",
    "tup6 = tuple(ele for ele in range(7)) # generator\n",
    "tup7 = *(ele for ele in range(10)),\n",
    "\n",
    "print(\"tup5:\", *tup5)\n",
    "print(\"tup6:\", *tup6)\n",
    "print(\"tup7:\", *tup7)\n"
   ]
  },
  {
   "cell_type": "markdown",
   "metadata": {},
   "source": [
    "### Accessing tuples by indexing and slicing"
   ]
  },
  {
   "cell_type": "code",
   "execution_count": 28,
   "metadata": {},
   "outputs": [
    {
     "name": "stdout",
     "output_type": "stream",
     "text": [
      "0 3 6\n"
     ]
    }
   ],
   "source": [
    "# indexing\n",
    "print(tup6[0], tup6[int(len(tup6) / 2)], tup6[-1])\n",
    "# begin, mid, end"
   ]
  },
  {
   "cell_type": "code",
   "execution_count": 38,
   "metadata": {},
   "outputs": [
    {
     "name": "stdout",
     "output_type": "stream",
     "text": [
      "(0, 1)\n",
      "(5, 6)\n",
      "(6, 5, 4, 3, 2, 1, 0)\n",
      "(2, 3, 4)\n"
     ]
    }
   ],
   "source": [
    "# slicing\n",
    "print(tup6[0:2])  # first 2 ele\\.\n",
    "print(tup6[-2:])  # last 2 ele\\.\n",
    "print(tup6[::-1])  # reverse\n",
    "print(tup6[slice(2, -2)]) # using slice object"
   ]
  },
  {
   "cell_type": "markdown",
   "metadata": {},
   "source": [
    "EOF"
   ]
  }
 ],
 "metadata": {
  "kernelspec": {
   "display_name": "DT",
   "language": "python",
   "name": "python3"
  },
  "language_info": {
   "codemirror_mode": {
    "name": "ipython",
    "version": 3
   },
   "file_extension": ".py",
   "mimetype": "text/x-python",
   "name": "python",
   "nbconvert_exporter": "python",
   "pygments_lexer": "ipython3",
   "version": "3.12.4"
  }
 },
 "nbformat": 4,
 "nbformat_minor": 2
}
