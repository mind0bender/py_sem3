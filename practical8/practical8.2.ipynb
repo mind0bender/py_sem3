{
 "cells": [
  {
   "cell_type": "markdown",
   "metadata": {},
   "source": [
    "### Tuple\n",
    "> Tuples are immutable"
   ]
  },
  {
   "cell_type": "markdown",
   "metadata": {},
   "source": [
    "Tuple declaration"
   ]
  },
  {
   "cell_type": "code",
   "execution_count": 16,
   "metadata": {},
   "outputs": [],
   "source": [
    "names = (\"Yash\", \"Avisekh\")\n",
    "uids = (11317, 11536)\n",
    "\n",
    "names619 = (\"Abhishek\", \"Nakul\")\n",
    "uids619 = (11338, 11342)"
   ]
  },
  {
   "cell_type": "markdown",
   "metadata": {},
   "source": [
    "list ele\\\\. access using idx\\\\."
   ]
  },
  {
   "cell_type": "code",
   "execution_count": 17,
   "metadata": {},
   "outputs": [
    {
     "name": "stdout",
     "output_type": "stream",
     "text": [
      "Avisekh has uid: 11536\n"
     ]
    }
   ],
   "source": [
    "print(names[-1], \"has uid:\", uids[-1])"
   ]
  },
  {
   "cell_type": "markdown",
   "metadata": {},
   "source": [
    "misc\\\\. helper function"
   ]
  },
  {
   "cell_type": "code",
   "execution_count": 18,
   "metadata": {},
   "outputs": [],
   "source": [
    "def showAll():\n",
    "    print(\"\\nnames:\", *[name.ljust(10) for name in names], sep=\"\\t\")\n",
    "    print(\"uids :\", *[str(uid).ljust(10) for uid in uids], sep=\"\\t\")\n",
    "\n",
    "\n",
    "def getFriend(name, uid):\n",
    "    return {\"name\": name, \"uid\": uid}"
   ]
  },
  {
   "cell_type": "code",
   "execution_count": 19,
   "metadata": {},
   "outputs": [
    {
     "name": "stdout",
     "output_type": "stream",
     "text": [
      "\n",
      "names:\tYash      \tAvisekh   \n",
      "uids :\t11317     \t11536     \n"
     ]
    }
   ],
   "source": [
    "showAll()"
   ]
  },
  {
   "cell_type": "code",
   "execution_count": 20,
   "metadata": {},
   "outputs": [
    {
     "name": "stdout",
     "output_type": "stream",
     "text": [
      "\n",
      "names:\tYash      \tAvisekh   \tSalim     \n",
      "uids :\t11317     \t11536     \t10589     \n"
     ]
    }
   ],
   "source": [
    "names += (\"Salim\",)\n",
    "uids += (10589,)\n",
    "showAll()"
   ]
  },
  {
   "cell_type": "code",
   "execution_count": 21,
   "metadata": {},
   "outputs": [
    {
     "name": "stdout",
     "output_type": "stream",
     "text": [
      "\n",
      "names:\tYash      \tAvisekh   \tKartik    \tSalim     \n",
      "uids :\t11317     \t11536     \t10796     \t10589     \n"
     ]
    }
   ],
   "source": [
    "names = names[:2] + (\"Kartik\",) + names[2:]\n",
    "uids = uids[:2] + (10796,) + uids[2:]\n",
    "showAll()"
   ]
  },
  {
   "cell_type": "code",
   "execution_count": 24,
   "metadata": {},
   "outputs": [
    {
     "name": "stdout",
     "output_type": "stream",
     "text": [
      "\n",
      "names:\tYash      \tAvisekh   \tKartik    \tSalim     \tAbhishek  \tNakul     \tAbhishek  \tNakul     \tAbhishek  \tNakul     \n",
      "uids :\t11317     \t11536     \t10796     \t10589     \t11338     \t11342     \t11338     \t11342     \t11338     \t11342     \n"
     ]
    }
   ],
   "source": [
    "# extent the list\n",
    "names+=names619\n",
    "uids+=uids619\n",
    "showAll()"
   ]
  },
  {
   "cell_type": "code",
   "execution_count": 27,
   "metadata": {},
   "outputs": [
    {
     "name": "stdout",
     "output_type": "stream",
     "text": [
      "\n",
      "names:\tYash      \tAvisekh   \tAbhishek  \tNakul     \tAbhishek  \tNakul     \tAbhishek  \tNakul     \n",
      "uids :\t11317     \t11536     \t11338     \t11342     \t11338     \t11342     \t11338     \t11342     \n"
     ]
    }
   ],
   "source": [
    "names = names[:2] + names[3:]\n",
    "uids = uids[:2] + uids[3:]\n",
    "showAll()"
   ]
  },
  {
   "cell_type": "code",
   "execution_count": 29,
   "metadata": {},
   "outputs": [
    {
     "name": "stdout",
     "output_type": "stream",
     "text": [
      "\n",
      "names:\tYash      \tAvisekh   \tAbhishek  \tNakul     \tAbhishek  \tNakul     \n",
      "uids :\t11317     \t11536     \t11338     \t11342     \t11338     \t11342     \n"
     ]
    }
   ],
   "source": [
    "names = names[:-1]\n",
    "uids = uids[:-1]\n",
    "\n",
    "showAll()"
   ]
  },
  {
   "cell_type": "code",
   "execution_count": 31,
   "metadata": {},
   "outputs": [],
   "source": [
    "friends = (getFriend(names[i], uids[i]) for i in range(len(names)))"
   ]
  },
  {
   "cell_type": "code",
   "execution_count": null,
   "metadata": {},
   "outputs": [],
   "source": []
  },
  {
   "cell_type": "code",
   "execution_count": null,
   "metadata": {},
   "outputs": [],
   "source": []
  }
 ],
 "metadata": {
  "kernelspec": {
   "display_name": "cu",
   "language": "python",
   "name": "python3"
  },
  "language_info": {
   "codemirror_mode": {
    "name": "ipython",
    "version": 3
   },
   "file_extension": ".py",
   "mimetype": "text/x-python",
   "name": "python",
   "nbconvert_exporter": "python",
   "pygments_lexer": "ipython3",
   "version": "3.12.4"
  }
 },
 "nbformat": 4,
 "nbformat_minor": 2
}
