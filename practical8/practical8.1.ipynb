{
 "cells": [
  {
   "cell_type": "markdown",
   "metadata": {},
   "source": [
    "### List\n",
    "\n",
    "> A list may can contain different types of data"
   ]
  },
  {
   "cell_type": "markdown",
   "metadata": {},
   "source": [
    "#### List Operations\n",
    "\n",
    "1. append\n",
    "1. insert\n",
    "1. pop\n",
    "1. remove\n",
    "1. extend\n",
    "1. sort"
   ]
  },
  {
   "cell_type": "markdown",
   "metadata": {},
   "source": [
    "list declaration"
   ]
  },
  {
   "cell_type": "code",
   "execution_count": 18,
   "metadata": {},
   "outputs": [],
   "source": [
    "names = [\"Yash\", \"Avisekh\"]\n",
    "uids = [11317, 11536]\n",
    "\n",
    "names619 = [\"Abhishek\", \"Nakul\"]\n",
    "uids619 = [11338, 11342]"
   ]
  },
  {
   "cell_type": "markdown",
   "metadata": {},
   "source": [
    "list ele\\\\. access using idx\\\\."
   ]
  },
  {
   "cell_type": "code",
   "execution_count": 19,
   "metadata": {},
   "outputs": [
    {
     "name": "stdout",
     "output_type": "stream",
     "text": [
      "Avisekh has uid: 11536\n"
     ]
    }
   ],
   "source": [
    "print(names[1], \"has uid:\", uids[1])"
   ]
  },
  {
   "cell_type": "markdown",
   "metadata": {},
   "source": [
    "misc\\\\. helper function"
   ]
  },
  {
   "cell_type": "code",
   "execution_count": 26,
   "metadata": {},
   "outputs": [],
   "source": [
    "def showAll():\n",
    "    print(\"\\nnames:\", *[name.ljust(10) for name in names], sep=\"\\t\")\n",
    "    print(\"uids :\", *[str(uid).ljust(10) for uid in uids], sep=\"\\t\")\n",
    "\n",
    "\n",
    "def getFriend(name, uid):\n",
    "    return {\"name\": name, \"uid\": uid}"
   ]
  },
  {
   "cell_type": "code",
   "execution_count": 21,
   "metadata": {},
   "outputs": [
    {
     "name": "stdout",
     "output_type": "stream",
     "text": [
      "\n",
      "names:\tYash      \tAvisekh   \n",
      "uids :\t11317     \t11536     \n"
     ]
    }
   ],
   "source": [
    "showAll()"
   ]
  },
  {
   "cell_type": "markdown",
   "metadata": {},
   "source": [
    "Appends an element at the end of the list(like push_back in cpp)"
   ]
  },
  {
   "cell_type": "code",
   "execution_count": 22,
   "metadata": {},
   "outputs": [
    {
     "name": "stdout",
     "output_type": "stream",
     "text": [
      "\n",
      "names:\tYash      \tAvisekh   \tSalim     \n",
      "uids :\t11317     \t11536     \t10589     \n"
     ]
    }
   ],
   "source": [
    "names.append(\"Salim\")\n",
    "uids.append(10589)\n",
    "showAll()"
   ]
  },
  {
   "cell_type": "markdown",
   "metadata": {},
   "source": [
    "inserts an element at a given position in the list"
   ]
  },
  {
   "cell_type": "code",
   "execution_count": 23,
   "metadata": {},
   "outputs": [
    {
     "name": "stdout",
     "output_type": "stream",
     "text": [
      "\n",
      "names:\tKartik    \tYash      \tAvisekh   \tSalim     \n",
      "uids :\t10796     \t11317     \t11536     \t10589     \n"
     ]
    }
   ],
   "source": [
    "names.insert(0, \"Kartik\")\n",
    "uids.insert(0, 10796)\n",
    "showAll()"
   ]
  },
  {
   "cell_type": "markdown",
   "metadata": {},
   "source": [
    "extend the list with the list619"
   ]
  },
  {
   "cell_type": "code",
   "execution_count": 24,
   "metadata": {},
   "outputs": [
    {
     "name": "stdout",
     "output_type": "stream",
     "text": [
      "\n",
      "names:\tKartik    \tYash      \tAvisekh   \tSalim     \tAbhishek  \tNakul     \n",
      "uids :\t10796     \t11317     \t11536     \t10589     \t11338     \t11342     \n"
     ]
    }
   ],
   "source": [
    "# extent the list\n",
    "names.extend(names619)\n",
    "uids.extend(uids619)\n",
    "\n",
    "showAll()"
   ]
  },
  {
   "cell_type": "markdown",
   "metadata": {},
   "source": [
    "remove a val\\\\."
   ]
  },
  {
   "cell_type": "code",
   "execution_count": 25,
   "metadata": {},
   "outputs": [
    {
     "name": "stdout",
     "output_type": "stream",
     "text": [
      "\n",
      "names:\tKartik    \tAvisekh   \tSalim     \tAbhishek  \tNakul     \n",
      "uids :\t10796     \t11536     \t10589     \t11338     \t11342     \n"
     ]
    }
   ],
   "source": [
    "names.remove(\"Yash\")\n",
    "uids.remove(11317)\n",
    "showAll()"
   ]
  },
  {
   "cell_type": "markdown",
   "metadata": {},
   "source": [
    "remove the last ele\\\\."
   ]
  },
  {
   "cell_type": "code",
   "execution_count": null,
   "metadata": {},
   "outputs": [],
   "source": [
    "names.pop()\n",
    "uids.pop()\n",
    "\n",
    "showAll()"
   ]
  },
  {
   "cell_type": "markdown",
   "metadata": {},
   "source": [
    "list comprehension"
   ]
  },
  {
   "cell_type": "code",
   "execution_count": 30,
   "metadata": {},
   "outputs": [
    {
     "data": {
      "text/plain": [
       "list"
      ]
     },
     "execution_count": 30,
     "metadata": {},
     "output_type": "execute_result"
    }
   ],
   "source": [
    "friends = [getFriend(names[i], uids[i]) for i in range(len(names))]\n",
    "type(friends)"
   ]
  },
  {
   "cell_type": "markdown",
   "metadata": {},
   "source": [
    "sorting a list"
   ]
  },
  {
   "cell_type": "code",
   "execution_count": 28,
   "metadata": {},
   "outputs": [
    {
     "name": "stdout",
     "output_type": "stream",
     "text": [
      "{'name': 'Salim', 'uid': 10589}\n",
      "{'name': 'Kartik', 'uid': 10796}\n",
      "{'name': 'Abhishek', 'uid': 11338}\n",
      "{'name': 'Nakul', 'uid': 11342}\n",
      "{'name': 'Avisekh', 'uid': 11536}\n"
     ]
    }
   ],
   "source": [
    "friends.sort(key=lambda friend: friend[\"uid\"])\n",
    "\n",
    "print(*friends, sep=\"\\n\")"
   ]
  }
 ],
 "metadata": {
  "kernelspec": {
   "display_name": "Python 3",
   "language": "python",
   "name": "python3"
  },
  "language_info": {
   "codemirror_mode": {
    "name": "ipython",
    "version": 3
   },
   "file_extension": ".py",
   "mimetype": "text/x-python",
   "name": "python",
   "nbconvert_exporter": "python",
   "pygments_lexer": "ipython3",
   "version": "3.12.4"
  }
 },
 "nbformat": 4,
 "nbformat_minor": 2
}
