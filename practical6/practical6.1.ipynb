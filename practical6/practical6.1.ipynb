{
 "cells": [
  {
   "cell_type": "markdown",
   "metadata": {},
   "source": [
    "## Scope of global and local variables\n",
    "\n",
    "> Inside a fn\\\\. we can access either local var\\\\. or global var\\\\..\n",
    "\n"
   ]
  },
  {
   "cell_type": "code",
   "execution_count": 13,
   "metadata": {},
   "outputs": [
    {
     "name": "stdout",
     "output_type": "stream",
     "text": [
      "20 20\n",
      "global a: 20\n"
     ]
    }
   ],
   "source": [
    "a = 20\n",
    "\n",
    "def lol():\n",
    "    global a\n",
    "    b = 20\n",
    "    print(a, b)\n",
    "\n",
    "lol()\n",
    "print(\"global a:\", a)"
   ]
  },
  {
   "cell_type": "code",
   "execution_count": 14,
   "metadata": {},
   "outputs": [
    {
     "name": "stdout",
     "output_type": "stream",
     "text": [
      "10 20\n",
      "global a: 10\n"
     ]
    }
   ],
   "source": [
    "a = 20\n",
    "\n",
    "def lol():\n",
    "    global a\n",
    "    a = 10\n",
    "    b = 20\n",
    "    print(a, b)\n",
    "\n",
    "lol()\n",
    "print(\"global a:\", a)"
   ]
  },
  {
   "cell_type": "code",
   "execution_count": 15,
   "metadata": {},
   "outputs": [
    {
     "name": "stdout",
     "output_type": "stream",
     "text": [
      "10 20\n",
      "global a: 20\n"
     ]
    }
   ],
   "source": [
    "a = 20\n",
    "\n",
    "def lol():\n",
    "    a = 10\n",
    "    # can't have both local and global var\\. in a fn\\..\n",
    "    # global a\n",
    "    b = 20\n",
    "    print(a, b)\n",
    "\n",
    "lol()\n",
    "print(\"global a:\", a)"
   ]
  }
 ],
 "metadata": {
  "kernelspec": {
   "display_name": "DT",
   "language": "python",
   "name": "python3"
  },
  "language_info": {
   "codemirror_mode": {
    "name": "ipython",
    "version": 3
   },
   "file_extension": ".py",
   "mimetype": "text/x-python",
   "name": "python",
   "nbconvert_exporter": "python",
   "pygments_lexer": "ipython3",
   "version": "3.12.4"
  }
 },
 "nbformat": 4,
 "nbformat_minor": 2
}
